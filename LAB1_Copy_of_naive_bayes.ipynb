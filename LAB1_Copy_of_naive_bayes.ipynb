{
  "cells": [
    {
      "cell_type": "markdown",
      "metadata": {
        "id": "view-in-github",
        "colab_type": "text"
      },
      "source": [
        "<a href=\"https://colab.research.google.com/github/kaveku/Week1/blob/main/LAB1_Copy_of_naive_bayes.ipynb\" target=\"_parent\"><img src=\"https://colab.research.google.com/assets/colab-badge.svg\" alt=\"Open In Colab\"/></a>"
      ]
    },
    {
      "cell_type": "markdown",
      "metadata": {
        "id": "i85hzOxbSnrt"
      },
      "source": [
        "The goal of this lab is to implement a language identifier (LID).\n",
        "\n",
        "Our first model will be based on Naive Bayes."
      ]
    },
    {
      "cell_type": "code",
      "execution_count": null,
      "metadata": {
        "id": "RdQEMzpiSnrv"
      },
      "outputs": [],
      "source": [
        "import io, sys, math, re\n",
        "from collections import defaultdict\n",
        "import numpy as np"
      ]
    },
    {
      "cell_type": "markdown",
      "metadata": {
        "id": "DUcfI2uYSnrv"
      },
      "source": [
        "The next function is used to load the data. Each line of the data consist of a label (corresponding to a language), followed by some text, written in that language. Here is an example of data:\n",
        "\n",
        "```__label__de Zur Namensdeutung gibt es mehrere Varianten.```\n"
      ]
    },
    {
      "cell_type": "code",
      "execution_count": null,
      "metadata": {
        "id": "FRrbLO9eSnrv"
      },
      "outputs": [],
      "source": [
        "def load_data(filename):\n",
        "    fin = io.open(filename, 'r', encoding='utf-8')\n",
        "    data = []\n",
        "    for line in fin:\n",
        "        tokens = line.split()\n",
        "        data.append((tokens[0], tokens[1:]))\n",
        "    return data"
      ]
    },
    {
      "cell_type": "markdown",
      "metadata": {
        "id": "DlNNDrPgSnrw"
      },
      "source": [
        "You can now try loading the first dataset `train1.txt` and look what examples look like."
      ]
    },
    {
      "cell_type": "code",
      "execution_count": null,
      "metadata": {
        "colab": {
          "base_uri": "https://localhost:8080/"
        },
        "id": "DpmzRq_BSnrw",
        "outputId": "9f925cfe-8aa0-49d4-eb6d-65bac2a969c5"
      },
      "outputs": [
        {
          "output_type": "stream",
          "name": "stdout",
          "text": [
            "('__label__de', ['Ich', 'würde', 'alles', 'tun,', 'um', 'dich', 'zu', 'beschützen.'])\n"
          ]
        }
      ],
      "source": [
        "data = load_data(\"train1.txt\")\n",
        "print(data[0])"
      ]
    },
    {
      "cell_type": "markdown",
      "metadata": {
        "id": "x3E5o6KpSnrw"
      },
      "source": [
        "Next, we will start implementing the Naive Bayes method. This technique is based on word counts, and we thus need to start by implementing a function to count the words and labels of our training set.\n",
        "\n",
        "`n_examples` is the total number of examples\n",
        "\n",
        "`n_words_per_label` is the total number of words for a given label\n",
        "\n",
        "`label_counts` is the number of times a given label appears in the training data\n",
        "\n",
        "`word_counts` is the number of times a word appears with a given label"
      ]
    },
    {
      "cell_type": "code",
      "execution_count": null,
      "metadata": {
        "id": "mvV5OpeSSnrx"
      },
      "outputs": [],
      "source": [
        "def count_words(data):\n",
        "    n_examples = 0\n",
        "    n_words_per_label = defaultdict(lambda: 0)\n",
        "    label_counts = defaultdict(lambda: 0)\n",
        "    word_counts = defaultdict(lambda: defaultdict(lambda: 0.0))\n",
        "\n",
        "    for example in data:\n",
        "        label, sentence = example\n",
        "        \n",
        "        label_counts[label] = label_counts[label]+1\n",
        "        for word in sentence:\n",
        "            word_counts[label][word] = word_counts[label][word]+ 1\n",
        "        n_words_per_label[label] = n_words_per_label[label] + len(sentence)\n",
        "        n_examples = n_examples+ 1\n",
        "\n",
        "    return {'label_counts': label_counts, \n",
        "            'word_counts': word_counts, \n",
        "            'n_examples': n_examples, \n",
        "            'n_words_per_label': n_words_per_label}"
      ]
    },
    {
      "cell_type": "markdown",
      "metadata": {
        "id": "0qH9YYruSnrx"
      },
      "source": [
        "Next, using the word and label counts from the previous function, we can implement the prediction function.\n",
        "\n",
        "Here, `mu` is a regularization parameter (Laplace smoothing), and `sentence` is the list of words corresponding to the test example."
      ]
    },
    {
      "cell_type": "code",
      "execution_count": null,
      "metadata": {
        "id": "9lKo4eTbSnrx"
      },
      "outputs": [],
      "source": [
        "def predict(sentence, mu, label_counts, word_counts, n_examples, n_words_per_label):\n",
        "    best_label = None\n",
        "    best_score = float('-inf')\n",
        "    i = 0\n",
        "    result = []\n",
        "    for label in word_counts.keys():\n",
        "        score = 0.0\n",
        "        result = []\n",
        "\n",
        "        for word in sentence:\n",
        "            score += np.log((word_counts[label][word] + mu)/(label_counts[label] + mu*len(word_counts[label])))\n",
        "        \n",
        "        score += np.log(label_counts[label]/n_examples)\n",
        "        if score >= best_score:\n",
        "            best_score = score \n",
        "            best_label = label\n",
        "    \n",
        "    return best_label"
      ]
    },
    {
      "cell_type": "markdown",
      "metadata": {
        "id": "AZoY5EUjSnry"
      },
      "source": [
        "The next function will be used to evaluate the Naive Bayes model on a validation set. It computes the accuracy for a particular regularization parameter `mu`."
      ]
    },
    {
      "cell_type": "code",
      "execution_count": null,
      "metadata": {
        "id": "xwPMvmWSSnry"
      },
      "outputs": [],
      "source": [
        "def compute_accuracy(valid_data, mu, counts):\n",
        "    accuracy = 0.0\n",
        "    label_counts = counts['label_counts']\n",
        "    word_counts = counts['word_counts']\n",
        "    n_examples = counts['n_examples']\n",
        "    n_words_per_label = counts['n_words_per_label']\n",
        "    results = 0\n",
        "    for label, sentence in valid_data:\n",
        "        predicted_label = predict(sentence, mu, label_counts, word_counts, n_examples, n_words_per_label)\n",
        "        if predicted_label == label :\n",
        "            results += 1\n",
        "        \n",
        "    return results/len(valid_data)"
      ]
    },
    {
      "cell_type": "code",
      "execution_count": null,
      "metadata": {
        "id": "bFrmax5gSnry",
        "colab": {
          "base_uri": "https://localhost:8080/"
        },
        "outputId": "eb8858f7-6247-4fd9-9afe-dff646c6bde6"
      },
      "outputs": [
        {
          "output_type": "stream",
          "name": "stdout",
          "text": [
            "\n",
            "** Naive Bayes **\n",
            "\n",
            "Validation accuracy: 0.939\n",
            "\n"
          ]
        }
      ],
      "source": [
        "print(\"\")\n",
        "print(\"** Naive Bayes **\")\n",
        "print(\"\")\n",
        "\n",
        "mu = 1.0\n",
        "train_data = load_data(\"train1.txt\")\n",
        "valid_data = load_data(\"valid1.txt\")\n",
        "counts = count_words(train_data)\n",
        "\n",
        "print(\"Validation accuracy: %.3f\" % compute_accuracy(valid_data, mu, counts))\n",
        "print(\"\")"
      ]
    }
  ],
  "metadata": {
    "colab": {
      "name": "LAB1: Copy of naive_bayes.ipynb",
      "provenance": [],
      "toc_visible": true,
      "include_colab_link": true
    },
    "kernelspec": {
      "display_name": "Python 3",
      "language": "python",
      "name": "python3"
    },
    "language_info": {
      "codemirror_mode": {
        "name": "ipython",
        "version": 3
      },
      "file_extension": ".py",
      "mimetype": "text/x-python",
      "name": "python",
      "nbconvert_exporter": "python",
      "pygments_lexer": "ipython3",
      "version": "3.6.2+"
    }
  },
  "nbformat": 4,
  "nbformat_minor": 0
}