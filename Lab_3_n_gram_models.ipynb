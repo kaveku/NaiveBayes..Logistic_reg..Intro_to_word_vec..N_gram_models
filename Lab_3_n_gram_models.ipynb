{
  "cells": [
    {
      "cell_type": "markdown",
      "metadata": {
        "id": "view-in-github",
        "colab_type": "text"
      },
      "source": [
        "<a href=\"https://colab.research.google.com/github/kaveku/Week1/blob/main/Lab_3_n_gram_models.ipynb\" target=\"_parent\"><img src=\"https://colab.research.google.com/assets/colab-badge.svg\" alt=\"Open In Colab\"/></a>"
      ]
    },
    {
      "cell_type": "markdown",
      "metadata": {
        "id": "96NSiL37ud8A"
      },
      "source": [
        "\n",
        "<h1 style=\"font-family:verdana;font-size:300%;text-align:center;background-color:#f2f2f2;color:#0d0d0d\">AMMI NLP - Review sessions</h1>\n",
        "\n",
        "<h1 style=\"font-family:verdana;font-size:180%;text-align:Center;color:#993333\"> Lab 3: n-gram models </h1>"
      ]
    },
    {
      "cell_type": "markdown",
      "metadata": {
        "id": "IyZJv0Dtud8C"
      },
      "source": [
        "**Big thanks to Amr Khalifa who improved this lab and made it to a Jupyter Notebook!**"
      ]
    },
    {
      "cell_type": "code",
      "execution_count": 124,
      "metadata": {
        "id": "nUwyk7maud8C"
      },
      "outputs": [],
      "source": [
        "import io, sys, math, re\n",
        "from collections import defaultdict\n",
        "import numpy as np"
      ]
    },
    {
      "cell_type": "code",
      "execution_count": 125,
      "metadata": {
        "id": "M7EHEP2_ud8D"
      },
      "outputs": [],
      "source": [
        "# data_loader\n",
        "def load_data(filename):\n",
        "    '''\n",
        "    parameters:\n",
        "    filename (string): datafile\n",
        "    \n",
        "    Returns:\n",
        "    data (list of lists): each list is a sentence of the text \n",
        "    vocab (dictionary): {word: no of times it appears in the text}\n",
        "    '''\n",
        "    fin = io.open(filename, 'r', encoding='utf-8')\n",
        "    data = []\n",
        "    vocab = defaultdict(lambda:0)\n",
        "    for line in fin:\n",
        "        sentence = line.split()\n",
        "        data.append(sentence)\n",
        "        for word in sentence:\n",
        "            vocab[word] += 1\n",
        "    return data, vocab"
      ]
    },
    {
      "cell_type": "code",
      "execution_count": 126,
      "metadata": {
        "id": "2UTJej2Oud8D",
        "colab": {
          "base_uri": "https://localhost:8080/"
        },
        "outputId": "e3e75aae-438a-4231-d779-976883a1f503"
      },
      "outputs": [
        {
          "output_type": "stream",
          "name": "stdout",
          "text": [
            "load training set..\n",
            "\n",
            "\n",
            "['__label__de', 'Ich', 'würde', 'alles', 'tun,', 'um', 'dich', 'zu', 'beschützen.']\n",
            "\n",
            "\n",
            "how : 239\n",
            "load validation set\n"
          ]
        }
      ],
      "source": [
        "print(\"load training set..\")\n",
        "print(\"\\n\")\n",
        "train_data, vocab = load_data(\"train2.txt\")\n",
        "print(train_data[0])\n",
        "print(\"\\n\")\n",
        "print(\"how :\",vocab['how'])\n",
        "print(\"load validation set\")\n",
        "valid_data, _ = load_data(\"valid2.txt\")"
      ]
    },
    {
      "cell_type": "code",
      "source": [
        "print(len(vocab), len(train_data[1]))"
      ],
      "metadata": {
        "colab": {
          "base_uri": "https://localhost:8080/"
        },
        "id": "_t38zZ6eYpGJ",
        "outputId": "ba6933a5-a768-462f-ef9c-6a7b72d7f9b1"
      },
      "execution_count": 127,
      "outputs": [
        {
          "output_type": "stream",
          "name": "stdout",
          "text": [
            "135309 7\n"
          ]
        }
      ]
    },
    {
      "cell_type": "code",
      "source": [
        "def remove_rare_words(data, vocab, mincount = 1):\n",
        "    '''\n",
        "    Parameters:\n",
        "    data (list of lists): each list is a sentence of the text \n",
        "    vocab (dictionary): {word: no of times it appears in the text}\n",
        "    mincount(int): the minimum count \n",
        "    \n",
        "    Returns: \n",
        "    data_with_unk(list of lists): data after replacing rare words with <unk> token\n",
        "    '''\n",
        "    # replace words in data that are not in the vocab \n",
        "    # or have a count that is below mincount\n",
        "    data_with_unk = []\n",
        "    ## FILL CODE\n",
        "    for sentence in data:\n",
        "        sentence_with_unk = []\n",
        "        for word in sentence:\n",
        "            if word in vocab and vocab[word]>mincount:\n",
        "                sentence_with_unk.append(word)\n",
        "            else:\n",
        "                sentence_with_unk.append('<unk>')\n",
        "        data_with_unk.append(sentence_with_unk)\n",
        "    \n",
        "    return data_with_unk"
      ],
      "metadata": {
        "id": "oe4wpyj3mAJt"
      },
      "execution_count": 128,
      "outputs": []
    },
    {
      "cell_type": "code",
      "execution_count": 129,
      "metadata": {
        "id": "S6gRN04Cud8E",
        "colab": {
          "base_uri": "https://localhost:8080/"
        },
        "outputId": "62eb0c63-9643-4dd1-9b0e-8e0a5664a959"
      },
      "outputs": [
        {
          "output_type": "stream",
          "name": "stdout",
          "text": [
            "remove rare words\n",
            "['__label__es', 'Me', '<unk>', 'diez', 'mil', '<unk>', 'para', '<unk>', 'mi', 'televisión.']\n"
          ]
        }
      ],
      "source": [
        "print(\"remove rare words\")\n",
        "train_data = remove_rare_words(train_data, vocab, mincount = 1)\n",
        "valid_data = remove_rare_words(valid_data, vocab, mincount = 1)\n",
        "\n",
        "#train_data\n",
        "print(train_data[15])"
      ]
    },
    {
      "cell_type": "code",
      "execution_count": 130,
      "metadata": {
        "id": "-9We3L7Zud8F"
      },
      "outputs": [],
      "source": [
        "def build_ngram(data, n):\n",
        "    '''\n",
        "    Parameters:\n",
        "    data (list of lists): each list is a sentence of the text \n",
        "    n (int): size of the n-gram\n",
        "    \n",
        "    Returns:\n",
        "    proba (dictionary of dictionary)\n",
        "    {\n",
        "        context: {word:probability of this word given context}\n",
        "    }\n",
        "    \n",
        "    \n",
        "    '''\n",
        "    total_number_words = 0\n",
        "    counts = defaultdict(lambda: defaultdict(lambda: 0.0))\n",
        "\n",
        "    for sentence in data:\n",
        "        sentence = tuple(sentence)\n",
        "        ## FILL CODE\n",
        "        # dict can be indexed by tuples\n",
        "        # store in the same dict all the ngrams\n",
        "        # by using the context as a key and the word as a value\n",
        "        for i in range(len(sentence)):\n",
        "            total_number_words +=1\n",
        "            for j in range(n):\n",
        "                if i-j < 0:\n",
        "                    break\n",
        "                counts[sentence[i-j:i]][sentence[i]] +=1 \n",
        "                           \n",
        "\n",
        "    proba  = defaultdict(lambda: defaultdict(lambda: 0.0))\n",
        "    # Build the probabilities from the counts\n",
        "    # Be careful with how you normalize!\n",
        "\n",
        "    for context in counts.keys():\n",
        "    ## FILL CODE\n",
        "        denom =0\n",
        "        for word in counts[context].keys():\n",
        "            denom += counts[context][word]\n",
        "        for word in counts[context].keys():\n",
        "            proba[context][word] = counts[context][word]/denom \n",
        "    \n",
        "    return proba"
      ]
    },
    {
      "cell_type": "code",
      "execution_count": 131,
      "metadata": {
        "id": "91VUBioEud8F",
        "colab": {
          "base_uri": "https://localhost:8080/"
        },
        "outputId": "d7b7472b-47c8-465b-9ea3-3ee2a8a705c2"
      },
      "outputs": [
        {
          "output_type": "stream",
          "name": "stdout",
          "text": [
            "build ngram model with n =  4\n"
          ]
        }
      ],
      "source": [
        "# RUN TO BUILD NGRAM MODEL\n",
        "n = 4\n",
        "print(\"build ngram model with n = \", n)\n",
        "model = build_ngram(train_data, n)"
      ]
    },
    {
      "cell_type": "markdown",
      "metadata": {
        "id": "-EDULyB5ud8F"
      },
      "source": [
        "Here, implement a recursive function over shorter and shorter context to compute a \"stupid backoff model\". An interpolation model can also be implemented this way."
      ]
    },
    {
      "cell_type": "code",
      "execution_count": 132,
      "metadata": {
        "id": "KPlJ-XfHud8F"
      },
      "outputs": [],
      "source": [
        "def get_prob(model, context, w):\n",
        "    '''\n",
        "    Parameters: \n",
        "    model (dictionary of dictionary)\n",
        "    {\n",
        "        context: {word:probability of this word given context}\n",
        "    } \n",
        "    context (list of strings): a sentence\n",
        "    w(string): the word we need to find it's probability given the context\n",
        "    \n",
        "    Retunrs:\n",
        "    prob(float): probability of this word given the context \n",
        "    '''\n",
        "\n",
        "    # code a recursive function over \n",
        "    # smaller and smaller context\n",
        "    # to compute the backoff model\n",
        "    \n",
        "    ## FILL CODE\n",
        "\n",
        "    if context in model and w in model[context]:\n",
        "        return model[context][w]\n",
        "    else:\n",
        "        return 0.4*get_prob(model, context[1:], w)"
      ]
    },
    {
      "cell_type": "code",
      "execution_count": 133,
      "metadata": {
        "id": "mmyQVK8aud8G"
      },
      "outputs": [],
      "source": [
        "def perplexity(model, data, n):\n",
        "    '''\n",
        "    Parameters: \n",
        "    model (dictionary of dictionary)\n",
        "    {\n",
        "        context: {word:probability of this word given context}\n",
        "    } \n",
        "    data (list of lists): each list is a sentence of the text\n",
        "    n(int): size of the n-gram\n",
        "    \n",
        "    Retunrs:\n",
        "    prep(float): the preplexity of the model \n",
        "    '''\n",
        "    ## FILL CODE\n",
        "    perplexity_val, T = 0.0, 0\n",
        "    for sentence in data:\n",
        "        sentence = tuple(sentence)\n",
        "        for i in range(1, len(sentence)):\n",
        "            nc = min(n-1, i)\n",
        "            context = sentence[i-nc:i]\n",
        "            perplexity_val += -math.log(get_prob(model, context, sentence[i]))\n",
        "            T += 1\n",
        "    perp = math.exp(perplexity_val/T)\n",
        "    return perplexity_val"
      ]
    },
    {
      "cell_type": "code",
      "execution_count": 134,
      "metadata": {
        "id": "0CRNObdeud8G",
        "colab": {
          "base_uri": "https://localhost:8080/"
        },
        "outputId": "70856914-fad3-4f3f-c0fb-566c74215648"
      },
      "outputs": [
        {
          "output_type": "stream",
          "name": "stdout",
          "text": [
            "The perplexity is 41820.89150821047\n"
          ]
        }
      ],
      "source": [
        "# COMPUTE PERPLEXITY ON VALIDATION SET\n",
        "\n",
        "print(\"The perplexity is\", perplexity(model, valid_data, n=n))"
      ]
    },
    {
      "cell_type": "code",
      "execution_count": 135,
      "metadata": {
        "id": "UV-zpLKGud8G"
      },
      "outputs": [],
      "source": [
        "def get_proba_distrib(model, context):\n",
        "    ## need to get the the words after the context and their probability of appearance\n",
        "    ## after this context \n",
        "    '''\n",
        "    Parameters: \n",
        "    model (dictionary of dictionary)\n",
        "    {\n",
        "        context: {word:probability of this word given context}\n",
        "    }\n",
        "    context (list of strings): the sentence we need to find the words after it and \n",
        "    thier probabilites\n",
        "    \n",
        "    Retunrs:\n",
        "    words_and_probs(dic): {word: probability of word given context}\n",
        "    \n",
        "    '''\n",
        "    # code a recursive function over context\n",
        "    # to find the longest available ngram\n",
        "    \n",
        "    ## FILL CODE\n",
        "    \n",
        "    if context in model:\n",
        "        return model[context]\n",
        "    else:\n",
        "        return get_proba_distrib(model, context[1:])"
      ]
    },
    {
      "cell_type": "code",
      "execution_count": 136,
      "metadata": {
        "id": "N-oCkvC2ud8G"
      },
      "outputs": [],
      "source": [
        "def generate(model):\n",
        "    '''\n",
        "    Parameters: \n",
        "    model (dictionary of dictionary)\n",
        "    {\n",
        "        context: {word:probability of this word given context}\n",
        "    }\n",
        "    \n",
        "    Retunrs:\n",
        "    sentence (list of strings): a sentence sampled according to the language model. \n",
        "    \n",
        "\n",
        "    '''\n",
        "    # generate a sentence. A sentence starts with a <s> and ends with a </s>\n",
        "    # Possiblly a use function is:\n",
        "    # np.random.choice(x, 1, p = y)\n",
        "\n",
        "    # where x is a list of things to sample from\n",
        "    # and y is a list of probability (of the same length as x)\n",
        "    sentence = [\"<s>\"]\n",
        "    while sentence[-1] != \"</s>\" and len(sentence)<100:\n",
        "        ## FILL CODE\n",
        "        proba = get_proba_distrib(model, tuple(sentence))\n",
        "        word = np.random.choice((list(proba.keys())), 1, p = list(proba.values()))\n",
        "        sentence.append(word[0])\n",
        "    return sentence"
      ]
    },
    {
      "cell_type": "code",
      "execution_count": 137,
      "metadata": {
        "id": "QZhcpGUAud8G",
        "colab": {
          "base_uri": "https://localhost:8080/"
        },
        "outputId": "443a0140-f408-4528-e55d-fa5c4aced40c"
      },
      "outputs": [
        {
          "output_type": "stream",
          "name": "stdout",
          "text": [
            "Generated sentence:  ['<s>', 'Kiel', 'la', 'afero', '<unk>', 'lin.', 'Mi', 'havas', 'multon', '<unk>', 'себя.', 'Ты', 'можешь', 'сделать', 'это,', 'если', 'как', 'следует', '<unk>', '<unk>', 'или', 'камни', '<unk>', 'или', 'голову', '<unk>', '-', '<unk>', 'vagyok.', '<unk>', 'szeretnék', 'beszélni.', 'the', '<unk>', '<unk>', 'rate', 'and', 'discovered', 'the', 'existence', 'of', 'a', 'force', 'called', 'dark', '<unk>', 'which', 'is', 'about', 'the', '<unk>', 'community.', 'a', 'cercare', 'qualcosa', 'in', 'Arabia', 'Saudita?', 'pourrait', 'trouver', 'dur', 'de', '<unk>', 'à', 'fantasia.', 'tarafından', 'alay', 'edildi.', \"didn't\", 'know', 'what', 'Mary', 'was', 'asking', 'him', 'to', 'do.', 'I', 'am', 'my', 'own', 'freaking', '<unk>', 'I', 'play', 'by', 'my', 'own', 'freaking', 'rules.', 'I', 'take', 'instructions', 'from', '<unk>', 'not', 'even', 'the', '<unk>', 'practical']\n"
          ]
        }
      ],
      "source": [
        "# GENERATE A SENTENCE FROM THE MODEL\n",
        "print(\"Generated sentence: \",generate(model))"
      ]
    },
    {
      "cell_type": "markdown",
      "metadata": {
        "id": "64AWlIhBud8G"
      },
      "source": [
        "Once you are done implementing the model, evaluation and generation code, you can try changing the value of `n`, and play with a larger training set (`train2.txt` and `valid2.txt`). You can also try to implement an interpolation model."
      ]
    },
    {
      "cell_type": "code",
      "execution_count": 137,
      "metadata": {
        "id": "YU7TFk_Fud8H"
      },
      "outputs": [],
      "source": [
        ""
      ]
    }
  ],
  "metadata": {
    "kernelspec": {
      "display_name": "Python 3",
      "language": "python",
      "name": "python3"
    },
    "language_info": {
      "codemirror_mode": {
        "name": "ipython",
        "version": 3
      },
      "file_extension": ".py",
      "mimetype": "text/x-python",
      "name": "python",
      "nbconvert_exporter": "python",
      "pygments_lexer": "ipython3",
      "version": "3.6.2+"
    },
    "colab": {
      "name": "Lab_3_n_gram_models.ipynb",
      "provenance": [],
      "include_colab_link": true
    }
  },
  "nbformat": 4,
  "nbformat_minor": 0
}